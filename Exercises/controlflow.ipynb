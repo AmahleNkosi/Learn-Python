{
 "cells": [
  {
   "cell_type": "markdown",
   "id": "0995a0b4",
   "metadata": {},
   "source": [
    "## Control Flow"
   ]
  },
  {
   "cell_type": "markdown",
   "id": "5145ad08",
   "metadata": {},
   "source": [
    "### If/else statements"
   ]
  },
  {
   "cell_type": "code",
   "execution_count": 9,
   "id": "a71c17e4",
   "metadata": {},
   "outputs": [
    {
     "name": "stdout",
     "output_type": "stream",
     "text": [
      "It is false!\n",
      "Always show this\n"
     ]
    }
   ],
   "source": [
    "a=False\n",
    "b=True\n",
    "if a: # if a is true\n",
    "    print('It is true!')\n",
    "    if b: #if b is true\n",
    "        print('Both a and b are true')\n",
    "else:\n",
    "    print('It is false!')\n",
    "print('Always show this')# this will always be printed\n",
    "\n",
    "#I already undertood if/else statements, so cool;)"
   ]
  },
  {
   "cell_type": "markdown",
   "id": "330e5929",
   "metadata": {},
   "source": [
    "### For Loops"
   ]
  },
  {
   "cell_type": "code",
   "execution_count": null,
   "id": "947a327c",
   "metadata": {},
   "outputs": [
    {
     "name": "stdout",
     "output_type": "stream",
     "text": [
      "Monday\n",
      "Tuesday\n",
      "Wednesday\n",
      "Thursday\n",
      "Friday\n",
      "Saturday\n",
      "Sunday\n",
      "1\n",
      "2\n",
      "3\n",
      "4\n",
      "5\n"
     ]
    }
   ],
   "source": [
    "#for loops\n",
    "#the best example I can think of if writing down the days of the week in order(stqarting from monday haha)\n",
    "days=['Monday', 'Tuesday', 'Wednesday', 'Thursday', 'Friday', 'Saturday', 'Sunday'] #this is a list,remember it?;)\n",
    "for day in days: #'day' is the variable name I chose.\n",
    "    print(day)\n",
    "    #day iterates through the list\n",
    "    #let's try with numbers\n",
    "    numbers=[1,2,3,4,5]\n",
    "for number in numbers:\n",
    "        print(number)\n",
    "        #important: unlike while loops, the for loop will end after iterating through the list;)"
   ]
  },
  {
   "cell_type": "markdown",
   "id": "42a61241",
   "metadata": {},
   "source": [
    "### While loops"
   ]
  },
  {
   "cell_type": "code",
   "execution_count": null,
   "id": "cfbb2248",
   "metadata": {},
   "outputs": [
    {
     "name": "stdout",
     "output_type": "stream",
     "text": [
      "Monday\n",
      "Tuesday\n",
      "Wednesday\n",
      "Thursday\n",
      "Friday\n",
      "Saturday\n"
     ]
    }
   ],
   "source": [
    "#uhm, let's write all the days ,except for Sunday\n",
    "days=['Monday', 'Tuesday', 'Wednesday', 'Thursday', 'Friday', 'Saturday', 'Sunday']\n",
    "# let's iterate through this list and show the days Mon-Sat\n",
    "i=0 #to start from item 0\n",
    "while i<(len(days)-1): #not writing the specific number(using this for when I start dealing with large amounts of data)\n",
    "    print(days[i])# print the day \n",
    "    i=i+1 #increment to avoid an infinite loop\n",
    "    #if we don't increment, i will always be 0, thus displaying the first item in the list an infinite \n",
    "    # number of times coz 0 is less than (len(days)-1)"
   ]
  },
  {
   "cell_type": "code",
   "execution_count": null,
   "id": "5225e3bd",
   "metadata": {},
   "outputs": [],
   "source": [
    "# I am comfortable with these as I have used them before, so I think this exercise will end here;)"
   ]
  }
 ],
 "metadata": {
  "kernelspec": {
   "display_name": "Python 3",
   "language": "python",
   "name": "python3"
  },
  "language_info": {
   "codemirror_mode": {
    "name": "ipython",
    "version": 3
   },
   "file_extension": ".py",
   "mimetype": "text/x-python",
   "name": "python",
   "nbconvert_exporter": "python",
   "pygments_lexer": "ipython3",
   "version": "3.13.7"
  }
 },
 "nbformat": 4,
 "nbformat_minor": 5
}
