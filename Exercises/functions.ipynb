{
 "cells": [
  {
   "cell_type": "markdown",
   "id": "c44f1e7d",
   "metadata": {},
   "source": [
    "## Functions"
   ]
  },
  {
   "cell_type": "code",
   "execution_count": 5,
   "id": "157661fe",
   "metadata": {},
   "outputs": [
    {
     "name": "stdout",
     "output_type": "stream",
     "text": [
      "You did not get a distinction, try harder next time!\n"
     ]
    }
   ],
   "source": [
    "# I also have an idea on how to use/create functions , but let's try out a few\n",
    "#uhm, let's check if someone got a distinction idk\n",
    "\n",
    "\n",
    "def distinction(mark):#we use 'def' to define a function, this function will receive a mark \n",
    "    if mark>=75: #let's implement control flow;)\n",
    "        print('Congratulations! You got a distinction')\n",
    "    else:\n",
    "        print('You did not get a distinction, try harder next time!')\n",
    "\n",
    "#our function has been defined, let's test it out\n",
    "grade=50\n",
    "distinction(grade)\n",
    "#it works;)"
   ]
  },
  {
   "cell_type": "code",
   "execution_count": 6,
   "id": "56e4c754",
   "metadata": {},
   "outputs": [
    {
     "data": {
      "text/plain": [
       "2"
      ]
     },
     "execution_count": 6,
     "metadata": {},
     "output_type": "execute_result"
    }
   ],
   "source": [
    "#now let's try arithmetic operators, maybe modulus?\n",
    "\n",
    "def getModulus(num1,num2):\n",
    "    return num1%num2 # return the modulus answer,haha\n",
    "\n",
    "val1=20\n",
    "val2=6\n",
    "getModulus(val1,val2)\n",
    "\n",
    "#let us check if it works\n",
    "val1%val2\n",
    "#we get the same number so yayyy;)"
   ]
  },
  {
   "cell_type": "code",
   "execution_count": 7,
   "id": "0a2933b0",
   "metadata": {},
   "outputs": [],
   "source": [
    "# I am now comfortable with functions in python;)"
   ]
  }
 ],
 "metadata": {
  "kernelspec": {
   "display_name": "Python 3",
   "language": "python",
   "name": "python3"
  },
  "language_info": {
   "codemirror_mode": {
    "name": "ipython",
    "version": 3
   },
   "file_extension": ".py",
   "mimetype": "text/x-python",
   "name": "python",
   "nbconvert_exporter": "python",
   "pygments_lexer": "ipython3",
   "version": "3.13.7"
  }
 },
 "nbformat": 4,
 "nbformat_minor": 5
}
