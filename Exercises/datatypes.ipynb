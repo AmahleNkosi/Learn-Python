{
 "cells": [
  {
   "cell_type": "markdown",
   "id": "0f30c84d",
   "metadata": {},
   "source": [
    "# Variables and data types"
   ]
  },
  {
   "cell_type": "markdown",
   "id": "ea50aff2",
   "metadata": {},
   "source": [
    "### Defining a variable"
   ]
  },
  {
   "cell_type": "code",
   "execution_count": 2,
   "id": "a773204b",
   "metadata": {},
   "outputs": [
    {
     "name": "stdout",
     "output_type": "stream",
     "text": [
      "19\n"
     ]
    }
   ],
   "source": [
    "#assign x to the value 19\n",
    "x=19\n",
    "print(x)"
   ]
  },
  {
   "cell_type": "markdown",
   "id": "84dfdc65",
   "metadata": {},
   "source": [
    "### Numbers"
   ]
  },
  {
   "cell_type": "code",
   "execution_count": 3,
   "id": "ff3be26b",
   "metadata": {},
   "outputs": [
    {
     "data": {
      "text/plain": [
       "int"
      ]
     },
     "execution_count": 3,
     "metadata": {},
     "output_type": "execute_result"
    }
   ],
   "source": [
    "#we have defined x, let's check what type of number it is\n",
    "type(x)"
   ]
  },
  {
   "cell_type": "code",
   "execution_count": 4,
   "id": "c0306216",
   "metadata": {},
   "outputs": [],
   "source": [
    "# let's try to see what decimals are called in python"
   ]
  },
  {
   "cell_type": "code",
   "execution_count": 5,
   "id": "e6777d73",
   "metadata": {},
   "outputs": [
    {
     "data": {
      "text/plain": [
       "float"
      ]
     },
     "execution_count": 5,
     "metadata": {},
     "output_type": "execute_result"
    }
   ],
   "source": [
    "a=19.19\n",
    "type(a)"
   ]
  },
  {
   "cell_type": "code",
   "execution_count": 6,
   "id": "c2efce63",
   "metadata": {},
   "outputs": [
    {
     "data": {
      "text/plain": [
       "int"
      ]
     },
     "execution_count": 6,
     "metadata": {},
     "output_type": "execute_result"
    }
   ],
   "source": [
    "#it is a float\n",
    "#because we're learning, let's to check negative numbers\n",
    "b=-100\n",
    "type(b)"
   ]
  },
  {
   "cell_type": "code",
   "execution_count": 7,
   "id": "b8c7ca25",
   "metadata": {},
   "outputs": [],
   "source": [
    "#it is an integer"
   ]
  },
  {
   "cell_type": "markdown",
   "id": "78e080f4",
   "metadata": {},
   "source": [
    "### Strings"
   ]
  },
  {
   "cell_type": "code",
   "execution_count": 8,
   "id": "837050ad",
   "metadata": {},
   "outputs": [
    {
     "name": "stdout",
     "output_type": "stream",
     "text": [
      "Amahle\n"
     ]
    }
   ],
   "source": [
    "name=\"Amahle\"\n",
    "print(name)"
   ]
  },
  {
   "cell_type": "code",
   "execution_count": 9,
   "id": "4fd81046",
   "metadata": {},
   "outputs": [
    {
     "data": {
      "text/plain": [
       "str"
      ]
     },
     "execution_count": 9,
     "metadata": {},
     "output_type": "execute_result"
    }
   ],
   "source": [
    "type(name)"
   ]
  },
  {
   "cell_type": "code",
   "execution_count": 10,
   "id": "78b47def",
   "metadata": {},
   "outputs": [],
   "source": [
    "#it's a string, let's check what happens when we use one quote instead of double quotes"
   ]
  },
  {
   "cell_type": "code",
   "execution_count": 11,
   "id": "567eafcf",
   "metadata": {},
   "outputs": [
    {
     "data": {
      "text/plain": [
       "str"
      ]
     },
     "execution_count": 11,
     "metadata": {},
     "output_type": "execute_result"
    }
   ],
   "source": [
    "myname='Amahle'\n",
    "type(myname)"
   ]
  },
  {
   "cell_type": "code",
   "execution_count": 12,
   "id": "3f7c1608",
   "metadata": {},
   "outputs": [],
   "source": [
    "#they both work;)"
   ]
  },
  {
   "cell_type": "markdown",
   "id": "2a7f8019",
   "metadata": {},
   "source": [
    "### Boleans"
   ]
  },
  {
   "cell_type": "code",
   "execution_count": 13,
   "id": "7a956f18",
   "metadata": {},
   "outputs": [
    {
     "data": {
      "text/plain": [
       "bool"
      ]
     },
     "execution_count": 13,
     "metadata": {},
     "output_type": "execute_result"
    }
   ],
   "source": [
    "#these are true and/or false statements\n",
    "#always start with a capital letter\n",
    "iscodingFun=True\n",
    "type(iscodingFun)"
   ]
  },
  {
   "cell_type": "code",
   "execution_count": 14,
   "id": "6e923ec9",
   "metadata": {},
   "outputs": [
    {
     "data": {
      "text/plain": [
       "False"
      ]
     },
     "execution_count": 14,
     "metadata": {},
     "output_type": "execute_result"
    }
   ],
   "source": [
    "#there are many waysto call these boolean values\n",
    "1==2"
   ]
  },
  {
   "cell_type": "code",
   "execution_count": 15,
   "id": "041b5e8b",
   "metadata": {},
   "outputs": [
    {
     "data": {
      "text/plain": [
       "bool"
      ]
     },
     "execution_count": 15,
     "metadata": {},
     "output_type": "execute_result"
    }
   ],
   "source": [
    "ihateSushi=False\n",
    "type(ihateSushi)"
   ]
  },
  {
   "cell_type": "code",
   "execution_count": 16,
   "id": "1b680399",
   "metadata": {},
   "outputs": [],
   "source": [
    "#let's see what happens when we use lowercase letters"
   ]
  },
  {
   "cell_type": "code",
   "execution_count": null,
   "id": "756e92ce",
   "metadata": {},
   "outputs": [
    {
     "ename": "NameError",
     "evalue": "name 'true' is not defined",
     "output_type": "error",
     "traceback": [
      "\u001b[31m---------------------------------------------------------------------------\u001b[39m",
      "\u001b[31mNameError\u001b[39m                                 Traceback (most recent call last)",
      "\u001b[36mCell\u001b[39m\u001b[36m \u001b[39m\u001b[32mIn[17]\u001b[39m\u001b[32m, line 1\u001b[39m\n\u001b[32m----> \u001b[39m\u001b[32m1\u001b[39m iloveBurgers=\u001b[43mtrue\u001b[49m\n",
      "\u001b[31mNameError\u001b[39m: name 'true' is not defined"
     ]
    }
   ],
   "source": [
    "#iloveBurgers=true"
   ]
  },
  {
   "cell_type": "code",
   "execution_count": 18,
   "id": "2e3cd8e8",
   "metadata": {},
   "outputs": [],
   "source": [
    "#we get an error\n",
    "#this is the end of the exercise"
   ]
  },
  {
   "cell_type": "code",
   "execution_count": null,
   "id": "bdd2a61f",
   "metadata": {},
   "outputs": [],
   "source": []
  }
 ],
 "metadata": {
  "kernelspec": {
   "display_name": "Python 3",
   "language": "python",
   "name": "python3"
  },
  "language_info": {
   "codemirror_mode": {
    "name": "ipython",
    "version": 3
   },
   "file_extension": ".py",
   "mimetype": "text/x-python",
   "name": "python",
   "nbconvert_exporter": "python",
   "pygments_lexer": "ipython3",
   "version": "3.13.7"
  }
 },
 "nbformat": 4,
 "nbformat_minor": 5
}
