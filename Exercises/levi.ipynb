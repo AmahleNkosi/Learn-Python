{
 "cells": [
  {
   "cell_type": "markdown",
   "id": "a3e20cd4",
   "metadata": {},
   "source": [
    "### Levi gave me this exercise, so let's try it out;)"
   ]
  },
  {
   "cell_type": "code",
   "execution_count": 17,
   "id": "d60309a1",
   "metadata": {},
   "outputs": [
    {
     "name": "stdout",
     "output_type": "stream",
     "text": [
      "It is an odd number\n"
     ]
    }
   ],
   "source": [
    "#taking the number as an input \n",
    "#printing if the number is even or odd\n",
    "\n",
    "def oddOrEven(num1):\n",
    "   if num1%2 != 0 :\n",
    "      return(True)\n",
    "   else:\n",
    "      return(False)\n",
    "\n",
    "\n",
    "val1=int(input('Enter a number'))#input with text 'Enter a number'\n",
    "if oddOrEven(val1)==True :\n",
    "  print('It is an odd number')\n",
    "else:\n",
    "   print('It is an even number')\n",
    "\n"
   ]
  },
  {
   "cell_type": "code",
   "execution_count": 18,
   "id": "381819ea",
   "metadata": {},
   "outputs": [
    {
     "name": "stdout",
     "output_type": "stream",
     "text": [
      "1\n"
     ]
    }
   ],
   "source": [
    "print(5%2)\n"
   ]
  },
  {
   "cell_type": "code",
   "execution_count": 19,
   "id": "7bb6a0c6",
   "metadata": {},
   "outputs": [
    {
     "name": "stdout",
     "output_type": "stream",
     "text": [
      "2\n"
     ]
    }
   ],
   "source": [
    "print(8%6)"
   ]
  },
  {
   "cell_type": "code",
   "execution_count": null,
   "id": "95528816",
   "metadata": {},
   "outputs": [],
   "source": [
    "print(18%9)"
   ]
  }
 ],
 "metadata": {
  "kernelspec": {
   "display_name": "Python 3",
   "language": "python",
   "name": "python3"
  },
  "language_info": {
   "codemirror_mode": {
    "name": "ipython",
    "version": 3
   },
   "file_extension": ".py",
   "mimetype": "text/x-python",
   "name": "python",
   "nbconvert_exporter": "python",
   "pygments_lexer": "ipython3",
   "version": "3.13.7"
  }
 },
 "nbformat": 4,
 "nbformat_minor": 5
}
