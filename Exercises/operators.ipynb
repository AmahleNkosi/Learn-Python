{
 "cells": [
  {
   "cell_type": "markdown",
   "id": "99f4a71b",
   "metadata": {},
   "source": [
    "## Operators"
   ]
  },
  {
   "cell_type": "markdown",
   "id": "524c445e",
   "metadata": {},
   "source": [
    "### Arithmetic operator"
   ]
  },
  {
   "cell_type": "code",
   "execution_count": 1,
   "id": "91e49e0b",
   "metadata": {},
   "outputs": [
    {
     "data": {
      "text/plain": [
       "2"
      ]
     },
     "execution_count": 1,
     "metadata": {},
     "output_type": "execute_result"
    }
   ],
   "source": [
    "# these operators perform mathematical operations\n",
    "1+1"
   ]
  },
  {
   "cell_type": "code",
   "execution_count": 2,
   "id": "ceae5299",
   "metadata": {},
   "outputs": [
    {
     "data": {
      "text/plain": [
       "1"
      ]
     },
     "execution_count": 2,
     "metadata": {},
     "output_type": "execute_result"
    }
   ],
   "source": [
    "#substraction\n",
    "21-20"
   ]
  },
  {
   "cell_type": "code",
   "execution_count": 4,
   "id": "cd7e277d",
   "metadata": {},
   "outputs": [
    {
     "data": {
      "text/plain": [
       "4.0"
      ]
     },
     "execution_count": 4,
     "metadata": {},
     "output_type": "execute_result"
    }
   ],
   "source": [
    "#division\n",
    "20/5"
   ]
  },
  {
   "cell_type": "code",
   "execution_count": 5,
   "id": "759015b3",
   "metadata": {},
   "outputs": [
    {
     "data": {
      "text/plain": [
       "0"
      ]
     },
     "execution_count": 5,
     "metadata": {},
     "output_type": "execute_result"
    }
   ],
   "source": [
    "#modulus(finds the remainder)\n",
    "20%5"
   ]
  },
  {
   "cell_type": "code",
   "execution_count": 6,
   "id": "0ed251ae",
   "metadata": {},
   "outputs": [
    {
     "data": {
      "text/plain": [
       "2"
      ]
     },
     "execution_count": 6,
     "metadata": {},
     "output_type": "execute_result"
    }
   ],
   "source": [
    "20%6"
   ]
  },
  {
   "cell_type": "code",
   "execution_count": 7,
   "id": "6d485d45",
   "metadata": {},
   "outputs": [],
   "source": [
    "#it also uses a percentage sign"
   ]
  },
  {
   "cell_type": "markdown",
   "id": "2bc57a91",
   "metadata": {},
   "source": [
    "### Arithmetic operators with strings"
   ]
  },
  {
   "cell_type": "code",
   "execution_count": 8,
   "id": "aa22a00f",
   "metadata": {},
   "outputs": [
    {
     "data": {
      "text/plain": [
       "'AmahleNkosi'"
      ]
     },
     "execution_count": 8,
     "metadata": {},
     "output_type": "execute_result"
    }
   ],
   "source": [
    "'Amahle'+ 'Nkosi'"
   ]
  },
  {
   "cell_type": "code",
   "execution_count": 9,
   "id": "0ad861e4",
   "metadata": {},
   "outputs": [
    {
     "data": {
      "text/plain": [
       "'Amahle Nkosi'"
      ]
     },
     "execution_count": 9,
     "metadata": {},
     "output_type": "execute_result"
    }
   ],
   "source": [
    "#I want space in between, so let's try inserting it\n",
    "'Amahle' + ' Nkosi'"
   ]
  },
  {
   "cell_type": "code",
   "execution_count": null,
   "id": "7196e9fe",
   "metadata": {},
   "outputs": [
    {
     "ename": "TypeError",
     "evalue": "unsupported operand type(s) for -: 'str' and 'str'",
     "output_type": "error",
     "traceback": [
      "\u001b[31m---------------------------------------------------------------------------\u001b[39m",
      "\u001b[31mTypeError\u001b[39m                                 Traceback (most recent call last)",
      "\u001b[36mCell\u001b[39m\u001b[36m \u001b[39m\u001b[32mIn[11]\u001b[39m\u001b[32m, line 3\u001b[39m\n\u001b[32m      1\u001b[39m \u001b[38;5;66;03m#here we go:)\u001b[39;00m\n\u001b[32m      2\u001b[39m \u001b[38;5;66;03m#let's try substraction with strings\u001b[39;00m\n\u001b[32m----> \u001b[39m\u001b[32m3\u001b[39m \u001b[33;43m'\u001b[39;49m\u001b[33;43mAmahle Nkosi\u001b[39;49m\u001b[33;43m'\u001b[39;49m\u001b[43m \u001b[49m\u001b[43m-\u001b[49m\u001b[43m \u001b[49m\u001b[33;43m'\u001b[39;49m\u001b[33;43mNkosi\u001b[39;49m\u001b[33;43m'\u001b[39;49m\n",
      "\u001b[31mTypeError\u001b[39m: unsupported operand type(s) for -: 'str' and 'str'"
     ]
    }
   ],
   "source": [
    "#here we go:)\n",
    "#let's try substraction with strings\n",
    "#'Amahle Nkosi' - 'Nkosi'\n",
    "#it gives us an error, but I know if I mutliply a string by an integer, it will repeat the string that many times"
   ]
  },
  {
   "cell_type": "markdown",
   "id": "a004ba15",
   "metadata": {},
   "source": [
    "### Comparison Operators"
   ]
  },
  {
   "cell_type": "code",
   "execution_count": 12,
   "id": "7ce51cc0",
   "metadata": {},
   "outputs": [
    {
     "data": {
      "text/plain": [
       "True"
      ]
     },
     "execution_count": 12,
     "metadata": {},
     "output_type": "execute_result"
    }
   ],
   "source": [
    "1==1"
   ]
  },
  {
   "cell_type": "code",
   "execution_count": 13,
   "id": "656490b0",
   "metadata": {},
   "outputs": [
    {
     "data": {
      "text/plain": [
       "True"
      ]
     },
     "execution_count": 13,
     "metadata": {},
     "output_type": "execute_result"
    }
   ],
   "source": [
    "#these return boolean values\n",
    "'1'=='1'"
   ]
  },
  {
   "cell_type": "code",
   "execution_count": 14,
   "id": "2306bd3d",
   "metadata": {},
   "outputs": [
    {
     "data": {
      "text/plain": [
       "False"
      ]
     },
     "execution_count": 14,
     "metadata": {},
     "output_type": "execute_result"
    }
   ],
   "source": [
    "1=='1'"
   ]
  },
  {
   "cell_type": "code",
   "execution_count": 15,
   "id": "de55d7fc",
   "metadata": {},
   "outputs": [
    {
     "data": {
      "text/plain": [
       "False"
      ]
     },
     "execution_count": 15,
     "metadata": {},
     "output_type": "execute_result"
    }
   ],
   "source": [
    "1<1"
   ]
  },
  {
   "cell_type": "code",
   "execution_count": 16,
   "id": "cbad5bea",
   "metadata": {},
   "outputs": [
    {
     "data": {
      "text/plain": [
       "True"
      ]
     },
     "execution_count": 16,
     "metadata": {},
     "output_type": "execute_result"
    }
   ],
   "source": [
    "100<=100"
   ]
  },
  {
   "cell_type": "markdown",
   "id": "c55d50a5",
   "metadata": {},
   "source": [
    "### Logical Operators"
   ]
  },
  {
   "cell_type": "code",
   "execution_count": null,
   "id": "fcab6247",
   "metadata": {},
   "outputs": [
    {
     "data": {
      "text/plain": [
       "1"
      ]
     },
     "execution_count": 17,
     "metadata": {},
     "output_type": "execute_result"
    }
   ],
   "source": [
    "#these are 'and','or' and 'not' statements\n"
   ]
  },
  {
   "cell_type": "code",
   "execution_count": null,
   "id": "94e7753c",
   "metadata": {},
   "outputs": [
    {
     "data": {
      "text/plain": [
       "False"
      ]
     },
     "execution_count": 24,
     "metadata": {},
     "output_type": "execute_result"
    }
   ],
   "source": [
    "x=0.2\n",
    "x<1 and x>1\n",
    "#returns a false if one of the statements is false and true if both statements are true"
   ]
  },
  {
   "cell_type": "code",
   "execution_count": 20,
   "id": "ccfa83bb",
   "metadata": {},
   "outputs": [
    {
     "data": {
      "text/plain": [
       "True"
      ]
     },
     "execution_count": 20,
     "metadata": {},
     "output_type": "execute_result"
    }
   ],
   "source": [
    "1 in [1,2,3,4,5]"
   ]
  },
  {
   "cell_type": "code",
   "execution_count": null,
   "id": "b58c0ad3",
   "metadata": {},
   "outputs": [
    {
     "data": {
      "text/plain": [
       "200"
      ]
     },
     "execution_count": 21,
     "metadata": {},
     "output_type": "execute_result"
    }
   ],
   "source": [
    "#the code above checks if 1 is in the list and returns a boolean value\n",
    "#'IN' is a membership operator:)\n",
    "#they are all almost very similar to each other:)\n"
   ]
  }
 ],
 "metadata": {
  "kernelspec": {
   "display_name": "Python 3",
   "language": "python",
   "name": "python3"
  },
  "language_info": {
   "codemirror_mode": {
    "name": "ipython",
    "version": 3
   },
   "file_extension": ".py",
   "mimetype": "text/x-python",
   "name": "python",
   "nbconvert_exporter": "python",
   "pygments_lexer": "ipython3",
   "version": "3.13.7"
  }
 },
 "nbformat": 4,
 "nbformat_minor": 5
}
