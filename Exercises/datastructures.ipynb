{
 "cells": [
  {
   "cell_type": "markdown",
   "id": "bcd78a5b",
   "metadata": {},
   "source": [
    "## Data Structures"
   ]
  },
  {
   "cell_type": "markdown",
   "id": "fc97e208",
   "metadata": {},
   "source": [
    "### Lists"
   ]
  },
  {
   "cell_type": "code",
   "execution_count": 1,
   "id": "7d3b8c13",
   "metadata": {},
   "outputs": [
    {
     "data": {
      "text/plain": [
       "list"
      ]
     },
     "execution_count": 1,
     "metadata": {},
     "output_type": "execute_result"
    }
   ],
   "source": [
    "moduleList=['INF','STK','WST']\n",
    "# This defines a list of modules that I have, the modules are represented as string\n",
    "type(moduleList)\n",
    "#even tho the list contains strings, the list itself is a datatype called list"
   ]
  },
  {
   "cell_type": "code",
   "execution_count": 2,
   "id": "ec1aa4aa",
   "metadata": {},
   "outputs": [
    {
     "data": {
      "text/plain": [
       "list"
      ]
     },
     "execution_count": 2,
     "metadata": {},
     "output_type": "execute_result"
    }
   ],
   "source": [
    "#lets compile a list of my grades\n",
    "grades=[85,90.5,88]\n",
    "#the type will still be a list(I assume,haha)\n",
    "#let us check it out\n",
    "type(grades)\n"
   ]
  },
  {
   "cell_type": "code",
   "execution_count": 3,
   "id": "90539692",
   "metadata": {},
   "outputs": [
    {
     "data": {
      "text/plain": [
       "True"
      ]
     },
     "execution_count": 3,
     "metadata": {},
     "output_type": "execute_result"
    }
   ],
   "source": [
    "#yay, let's incorporate booleans into our lists, no variables \n",
    "[80,90.5,88]==[80,90.5,88]"
   ]
  },
  {
   "cell_type": "code",
   "execution_count": 4,
   "id": "25f8dc7a",
   "metadata": {},
   "outputs": [
    {
     "data": {
      "text/plain": [
       "False"
      ]
     },
     "execution_count": 4,
     "metadata": {},
     "output_type": "execute_result"
    }
   ],
   "source": [
    "#it returns true, so the lists are equal or rather,identical\n",
    "#let's swap the numbers around\n",
    "[80,90.5,88]==[88,90.5,80]"
   ]
  },
  {
   "cell_type": "code",
   "execution_count": 5,
   "id": "ef1090f6",
   "metadata": {},
   "outputs": [],
   "source": [
    "#it returned false, the order matters in lists;)"
   ]
  },
  {
   "cell_type": "markdown",
   "id": "2851e61c",
   "metadata": {},
   "source": [
    "### Sets"
   ]
  },
  {
   "cell_type": "code",
   "execution_count": 6,
   "id": "0ded9e12",
   "metadata": {},
   "outputs": [],
   "source": [
    "#sets are defined using curly brackets"
   ]
  },
  {
   "cell_type": "code",
   "execution_count": 7,
   "id": "bf3ff8ea",
   "metadata": {},
   "outputs": [],
   "source": [
    "myColours={'pink','black','red','green'}\n"
   ]
  },
  {
   "cell_type": "code",
   "execution_count": 8,
   "id": "b05eed46",
   "metadata": {},
   "outputs": [
    {
     "data": {
      "text/plain": [
       "set"
      ]
     },
     "execution_count": 8,
     "metadata": {},
     "output_type": "execute_result"
    }
   ],
   "source": [
    "type(myColours)"
   ]
  },
  {
   "cell_type": "code",
   "execution_count": 9,
   "id": "8f7b00f2",
   "metadata": {},
   "outputs": [],
   "source": [
    "#this returns a set"
   ]
  },
  {
   "cell_type": "code",
   "execution_count": 10,
   "id": "2bb76ccb",
   "metadata": {},
   "outputs": [
    {
     "data": {
      "text/plain": [
       "True"
      ]
     },
     "execution_count": 10,
     "metadata": {},
     "output_type": "execute_result"
    }
   ],
   "source": [
    "#does the order matter in sets?\n",
    "{'pink','black','red','green'}=={'green','red','black','pink'}"
   ]
  },
  {
   "cell_type": "code",
   "execution_count": 11,
   "id": "3ee17db2",
   "metadata": {},
   "outputs": [
    {
     "data": {
      "text/plain": [
       "True"
      ]
     },
     "execution_count": 11,
     "metadata": {},
     "output_type": "execute_result"
    }
   ],
   "source": [
    "#The order does not matter in sets\n",
    "#let's use a number set\n",
    "myAges={20,21,22}\n",
    "myAges=={22,21,20} #Let's sneak in variables haha"
   ]
  },
  {
   "cell_type": "code",
   "execution_count": 12,
   "id": "3d7675c3",
   "metadata": {},
   "outputs": [],
   "source": [
    "#The order does not matter, no matter the data type\n",
    "#let's check if sets can consist of lists\n",
    "#mySet={['hello','world'],['hi','there']}"
   ]
  },
  {
   "cell_type": "code",
   "execution_count": 13,
   "id": "08181a1b",
   "metadata": {},
   "outputs": [],
   "source": [
    "# we get an error, it doesn't work"
   ]
  },
  {
   "cell_type": "code",
   "execution_count": 14,
   "id": "594b9c60",
   "metadata": {},
   "outputs": [
    {
     "name": "stdout",
     "output_type": "stream",
     "text": [
      "[{'S', 'M', 'L'}, {'XS', 'XL'}]\n"
     ]
    }
   ],
   "source": [
    "#Let's see if a list can consist of sets or list\n",
    "sizes=[{'S','M','L'},{'XS','XL'}]\n",
    "print(sizes)"
   ]
  },
  {
   "cell_type": "code",
   "execution_count": 15,
   "id": "041bc1fa",
   "metadata": {},
   "outputs": [],
   "source": [
    "#Yes, lists can consist of sets\n",
    "#let's move on the Tuples"
   ]
  },
  {
   "cell_type": "markdown",
   "id": "b30cac51",
   "metadata": {},
   "source": [
    "### Tuples"
   ]
  },
  {
   "cell_type": "code",
   "execution_count": 16,
   "id": "52e2537e",
   "metadata": {},
   "outputs": [
    {
     "data": {
      "text/plain": [
       "tuple"
      ]
     },
     "execution_count": 16,
     "metadata": {},
     "output_type": "execute_result"
    }
   ],
   "source": [
    "#tuples are defined using parentheses\n",
    "myTuple=('a','b','c')\n",
    "type(myTuple)"
   ]
  },
  {
   "cell_type": "code",
   "execution_count": 17,
   "id": "9b09e5d5",
   "metadata": {},
   "outputs": [
    {
     "data": {
      "text/plain": [
       "False"
      ]
     },
     "execution_count": 17,
     "metadata": {},
     "output_type": "execute_result"
    }
   ],
   "source": [
    "#returns a tuple\n",
    "#let's check if tuples can consist of lists or sets\n",
    "myTuple2=('b','c','a')\n",
    "myTuple==myTuple2"
   ]
  },
  {
   "cell_type": "code",
   "execution_count": 18,
   "id": "88ba4aa3",
   "metadata": {},
   "outputs": [],
   "source": [
    "#yes, order matters in tuples;)\n",
    "#Let us move on to dictionaries\n",
    "#Dictionaries are defined using curly brackets"
   ]
  },
  {
   "cell_type": "markdown",
   "id": "3753597d",
   "metadata": {},
   "source": [
    "### Dictionaries"
   ]
  },
  {
   "cell_type": "code",
   "execution_count": 19,
   "id": "6850ad86",
   "metadata": {},
   "outputs": [
    {
     "data": {
      "text/plain": [
       "dict"
      ]
     },
     "execution_count": 19,
     "metadata": {},
     "output_type": "execute_result"
    }
   ],
   "source": [
    "data = {'apple': 'A red fruit', \n",
    "        'banana': 'A yellow fruit'}\n",
    "type(data)"
   ]
  },
  {
   "cell_type": "code",
   "execution_count": null,
   "id": "80b7a715",
   "metadata": {},
   "outputs": [
    {
     "data": {
      "text/plain": [
       "'A red fruit'"
      ]
     },
     "execution_count": 20,
     "metadata": {},
     "output_type": "execute_result"
    }
   ],
   "source": [
    "#et us get the definition of an apple\n",
    "#this one was a bit difficult:(\n",
    "\n",
    "data['apple']"
   ]
  },
  {
   "cell_type": "code",
   "execution_count": null,
   "id": "1697d9fd",
   "metadata": {},
   "outputs": [],
   "source": []
  }
 ],
 "metadata": {
  "kernelspec": {
   "display_name": "Python 3",
   "language": "python",
   "name": "python3"
  },
  "language_info": {
   "codemirror_mode": {
    "name": "ipython",
    "version": 3
   },
   "file_extension": ".py",
   "mimetype": "text/x-python",
   "name": "python",
   "nbconvert_exporter": "python",
   "pygments_lexer": "ipython3",
   "version": "3.13.7"
  }
 },
 "nbformat": 4,
 "nbformat_minor": 5
}
