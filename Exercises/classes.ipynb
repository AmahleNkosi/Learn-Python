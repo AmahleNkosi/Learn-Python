{
 "cells": [
  {
   "cell_type": "markdown",
   "id": "c4a4e006",
   "metadata": {},
   "source": [
    "## Classes and Objects"
   ]
  },
  {
   "cell_type": "code",
   "execution_count": null,
   "id": "c96035df",
   "metadata": {},
   "outputs": [
    {
     "name": "stdout",
     "output_type": "stream",
     "text": [
      "<__main__.School object at 0x0000017FC43B8AD0>\n"
     ]
    }
   ],
   "source": [
    "#this one was a bit hard to grasp, even in other languages but let's look at Youtube videos;)\n",
    "#okay watched a few videos, pretty sure this will require a lot of practice, but let's create a class\n",
    "\n",
    "class School:\n",
    "    def __init__(self, name, location):# this is necessary so let's go ahead\n",
    "        self.name=name\n",
    "        self.location=location\n",
    "\n",
    "#now let's use our class\n",
    "Tuks=School('University Of Pretoria', 'Pretoria')   \n",
    "print(Tuks)\n",
    "\n",
    "#oops,it doesn't work\n",
    "#will do it tomorrow;)\n",
    "   "
   ]
  }
 ],
 "metadata": {
  "kernelspec": {
   "display_name": "Python 3",
   "language": "python",
   "name": "python3"
  },
  "language_info": {
   "codemirror_mode": {
    "name": "ipython",
    "version": 3
   },
   "file_extension": ".py",
   "mimetype": "text/x-python",
   "name": "python",
   "nbconvert_exporter": "python",
   "pygments_lexer": "ipython3",
   "version": "3.13.7"
  }
 },
 "nbformat": 4,
 "nbformat_minor": 5
}
